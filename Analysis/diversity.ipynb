{
 "cells": [
  {
   "cell_type": "code",
   "execution_count": null,
   "metadata": {},
   "outputs": [],
   "source": [
    "import numpy as np\n",
    "import pandas as pd\n",
    "import scanpy as sc\n",
    "import os\n",
    "import re\n",
    "import scirpy as ir\n",
    "import anndata as ad\n",
    "import scipy as sp\n",
    "import matplotlib\n",
    "from matplotlib import pyplot as plt\n",
    "from matplotlib.gridspec import GridSpec\n",
    "from matplotlib_venn import venn2, venn2_circles\n",
    "import seaborn as sns"
   ]
  },
  {
   "cell_type": "code",
   "execution_count": null,
   "metadata": {},
   "outputs": [],
   "source": [
    "# diversity\n",
    "\n",
    "## shannon\n",
    "\n",
    "### treatment\n",
    "ir.tl.alpha_diversity(adata_sc, metric=\"normalized_shannon_entropy\",\n",
    "                         groupby=\"treatment\", target_col=\"cc_aa_alignment\")\n",
    "\n",
    "fig = plt.figure()\n",
    "ax = fig.add_axes([0,0,1,1])\n",
    "x = adata_sc.obs[\"treatment\"].unique()\n",
    "y = adata_sc.obs[\"normalized_shannon_entropy_cc_aa_alignment\"].unique()\n",
    "bars = ax.bar(x, y)\n",
    "ax.bar_label(bars)\n",
    "ax.set_ylim(0.70, 1)\n",
    "plt.title(\"shannon entropy by treatment\")\n",
    "plt.show()\n",
    "\n",
    "\n",
    "## DV50\n",
    "ir.tl.alpha_diversity(adata_sc, metric=\"D50\",\n",
    "                         groupby=\"treatment\", target_col=\"cc_aa_alignment\")\n",
    "\n",
    "fig = plt.figure()\n",
    "ax = fig.add_axes([0,0,1,1])\n",
    "x = adata_sc.obs[\"treatment\"].unique()\n",
    "y = adata_sc.obs[\"D50_cc_aa_alignment\"].unique()\n",
    "bars = ax.bar(x, y)\n",
    "ax.bar_label(bars)\n",
    "plt.title(\"D50 by treatment\")\n",
    "plt.show()"
   ]
  }
 ],
 "metadata": {
  "language_info": {
   "name": "python"
  }
 },
 "nbformat": 4,
 "nbformat_minor": 2
}
