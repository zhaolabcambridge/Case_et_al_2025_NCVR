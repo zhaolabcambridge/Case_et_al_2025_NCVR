{
 "cells": [
  {
   "cell_type": "code",
   "execution_count": 2,
   "id": "9041749f-5771-422c-863d-958fa96cded1",
   "metadata": {},
   "outputs": [
    {
     "name": "stderr",
     "output_type": "stream",
     "text": [
      "/opt/anaconda3/envs/scenic/lib/python3.10/site-packages/seaborn/_statistics.py:32: UserWarning: A NumPy version >=1.23.5 and <2.3.0 is required for this version of SciPy (detected version 1.23.4)\n",
      "  from scipy.stats import gaussian_kde\n"
     ]
    }
   ],
   "source": [
    "# import dependencies\n",
    "import os, glob, re, pickle\n",
    "from functools import partial\n",
    "from collections import OrderedDict\n",
    "from cytoolz import compose\n",
    "import operator as op\n",
    "\n",
    "import pandas as pd\n",
    "import seaborn as sns\n",
    "import numpy as np\n",
    "np.object = object\n",
    "import scanpy as sc\n",
    "import anndata as ad\n",
    "import matplotlib.pyplot as plt\n",
    "\n",
    "from pyscenic.export import export2loom, add_scenic_metadata\n",
    "from pyscenic.utils import load_motifs\n",
    "from pyscenic.transform import df2regulons\n",
    "from pyscenic.aucell import aucell"
   ]
  },
  {
   "cell_type": "code",
   "execution_count": 3,
   "id": "2a537c11-2ab6-4db8-9956-6f531cfda99b",
   "metadata": {},
   "outputs": [],
   "source": [
    "# settings\n",
    "\n",
    "# Set maximum number of jobs\n",
    "sc.settings.njobs = 10"
   ]
  },
  {
   "cell_type": "code",
   "execution_count": 4,
   "id": "098251e5-76ab-4521-b055-8289f644c6e2",
   "metadata": {},
   "outputs": [],
   "source": [
    "BASE_FOLDER = \"\"\n",
    "\n",
    "EXP_MTX_QC_TPM_FNAME = os.path.join(BASE_FOLDER, 'lilacs_tcr.qc.tpm.csv')\n",
    "METADATA_FNAME = os.path.join(BASE_FOLDER, 'lilacs_tcr.metadata.csv')\n",
    "ANNDATA_FNAME = os.path.join(BASE_FOLDER, 'lilacs_tcr.h5ad')\n",
    "\n",
    "AUCELL_MTX_FNAME = os.path.join(BASE_FOLDER, 'lilacs_tcr.auc.csv')\n",
    "REGULONS_DAT_FNAME = os.path.join(BASE_FOLDER, 'lilacs_tcr.regulons.dat')\n",
    "LOOM_FNAME = os.path.join(BASE_FOLDER, 'lilacs_tcr.loom')"
   ]
  },
  {
   "cell_type": "code",
   "execution_count": 5,
   "id": "8c12535e-42f6-458c-b11a-ed54bf510f5d",
   "metadata": {},
   "outputs": [],
   "source": [
    "adata = sc.read_h5ad(\"aa_aligned_adata_sc.h5ad\")"
   ]
  },
  {
   "cell_type": "code",
   "execution_count": 6,
   "id": "89e55dbe-2414-409d-ad99-3c204921b8d4",
   "metadata": {},
   "outputs": [],
   "source": [
    "adata.to_df().to_csv(EXP_MTX_QC_TPM_FNAME)"
   ]
  },
  {
   "cell_type": "code",
   "execution_count": 7,
   "id": "8df83fdd-58cd-484a-a8e7-c2a473cb935a",
   "metadata": {},
   "outputs": [],
   "source": [
    "def derive_regulons(code, folder):\n",
    "    # Load enriched motifs.\n",
    "    motifs = load_motifs(os.path.join(folder, '{}.motifs.csv'.format(code)))\n",
    "    #print(motifs)\n",
    "    motifs.columns = motifs.columns.droplevel(0)\n",
    "\n",
    "    def contains(*elems):\n",
    "        def f(context):\n",
    "            return any(elem in context for elem in elems)\n",
    "        return f\n",
    "\n",
    "    # For the creation of regulons we only keep the 10-species databases and the activating modules. We also remove the\n",
    "    # enriched motifs for the modules that were created using the method 'weight>50.0%' (because these modules are not part\n",
    "    # of the default settings of modules_from_adjacencies anymore.\n",
    "    motifs = motifs[\n",
    "        np.fromiter(map(compose(op.not_, contains('weight>50.0%')), motifs.Context), dtype=bool) & \\\n",
    "        np.fromiter(map(contains('hg38_10kbp_up_10kbp_down_full_tx_v10_clust.genes_vs_motifs.rankings', \n",
    "                                 'hg38_500bp_up_100bp_down_full_tx_v10_clust.genes_vs_motifs.rankings', \n",
    "                                 'hg38_10kbp_up_10kbp_down_full_tx_v10_clust.genes_vs_motifs.rankings',\n",
    "                                 'hg38_10kbp_up_10kbp_down_full_tx_v10_clust.genes_vs_motifs.rankings'), motifs.Context), dtype=bool) & \\\n",
    "        np.fromiter(map(contains('activating'), motifs.Context), dtype=bool)]\n",
    "\n",
    "    # We build regulons only using enriched motifs with a NES of 3.0 or higher; we take only directly annotated TFs or TF annotated\n",
    "    # for an orthologous gene into account; and we only keep regulons with at least 10 genes.\n",
    "   \n",
    "    #regulons = list(filter(lambda r: len(r) >= 10, df2regulons(motifs[(motifs['NES'] >= 3.0) \n",
    "    #                                                                  & ((motifs['Annotation'] == 'gene is directly annotated')\n",
    "    #                                                                    | (motifs['Annotation'].str.startswith('gene is orthologous to')\n",
    "    #                                                                       & motifs['Annotation'].str.endswith('which is directly annotated for motif')))\n",
    "    #                                                                 ])))\n",
    "    \n",
    "    #regulons = list(filter(lambda r: len(r) >= 7, df2regulons(motifs[(motifs['NES'] >= 3.0)])))\n",
    "    regulons = list(filter(lambda r: len(r) >= 5, df2regulons(motifs[(motifs['NES'] >= 3.0)])))\n",
    "    \n",
    "    # Rename regulons, i.e. remove suffix.\n",
    "    regulons = list(map(lambda r: r.rename(r.transcription_factor), regulons))\n",
    "\n",
    "    # Pickle these regulons.\n",
    "    with open(os.path.join(folder, '{}.regulons.dat'.format(code)), 'wb') as f:\n",
    "        pickle.dump(regulons, f)"
   ]
  },
  {
   "cell_type": "code",
   "execution_count": 8,
   "id": "5f8f0dea-64f8-41f7-83ed-6ac451a3707b",
   "metadata": {},
   "outputs": [
    {
     "name": "stdout",
     "output_type": "stream",
     "text": [
      "Create regulons from a dataframe of enriched features.\n",
      "Additional columns saved: []\n"
     ]
    }
   ],
   "source": [
    "derive_regulons('lilacs_tcr', BASE_FOLDER)"
   ]
  },
  {
   "cell_type": "code",
   "execution_count": 9,
   "id": "4a41f615-06ef-4bec-87f3-d8a5a3cc2db9",
   "metadata": {},
   "outputs": [],
   "source": [
    "with open(REGULONS_DAT_FNAME, 'rb') as f:\n",
    "    regulons = pickle.load(f)"
   ]
  },
  {
   "cell_type": "code",
   "execution_count": 10,
   "id": "8efa2d62-7a2c-4e31-a4b4-25cc99a7b463",
   "metadata": {},
   "outputs": [
    {
     "name": "stderr",
     "output_type": "stream",
     "text": [
      "/opt/anaconda3/envs/scenic/lib/python3.10/site-packages/numba/__init__.py:48: UserWarning: A NumPy version >=1.23.5 and <2.3.0 is required for this version of SciPy (detected version 1.23.4)\n",
      "  import scipy\n",
      "/opt/anaconda3/envs/scenic/lib/python3.10/site-packages/numba/__init__.py:48: UserWarning: A NumPy version >=1.23.5 and <2.3.0 is required for this version of SciPy (detected version 1.23.4)\n",
      "  import scipy\n",
      "/opt/anaconda3/envs/scenic/lib/python3.10/site-packages/numba/__init__.py:48: UserWarning: A NumPy version >=1.23.5 and <2.3.0 is required for this version of SciPy (detected version 1.23.4)\n",
      "  import scipy\n",
      "/opt/anaconda3/envs/scenic/lib/python3.10/site-packages/numba/__init__.py:48: UserWarning: A NumPy version >=1.23.5 and <2.3.0 is required for this version of SciPy (detected version 1.23.4)\n",
      "  import scipy\n",
      "/opt/anaconda3/envs/scenic/lib/python3.10/site-packages/numba/__init__.py:48: UserWarning: A NumPy version >=1.23.5 and <2.3.0 is required for this version of SciPy (detected version 1.23.4)\n",
      "  import scipy\n",
      "/opt/anaconda3/envs/scenic/lib/python3.10/site-packages/numba/__init__.py:48: UserWarning: A NumPy version >=1.23.5 and <2.3.0 is required for this version of SciPy (detected version 1.23.4)\n",
      "  import scipy\n",
      "/opt/anaconda3/envs/scenic/lib/python3.10/site-packages/numba/__init__.py:48: UserWarning: A NumPy version >=1.23.5 and <2.3.0 is required for this version of SciPy (detected version 1.23.4)\n",
      "  import scipy\n",
      "/opt/anaconda3/envs/scenic/lib/python3.10/site-packages/numba/__init__.py:48: UserWarning: A NumPy version >=1.23.5 and <2.3.0 is required for this version of SciPy (detected version 1.23.4)\n",
      "  import scipy\n",
      "/opt/anaconda3/envs/scenic/lib/python3.10/site-packages/numba/__init__.py:48: UserWarning: A NumPy version >=1.23.5 and <2.3.0 is required for this version of SciPy (detected version 1.23.4)\n",
      "  import scipy\n",
      "/opt/anaconda3/envs/scenic/lib/python3.10/site-packages/numba/__init__.py:48: UserWarning: A NumPy version >=1.23.5 and <2.3.0 is required for this version of SciPy (detected version 1.23.4)\n",
      "  import scipy\n",
      "/opt/anaconda3/envs/scenic/lib/python3.10/site-packages/numba/__init__.py:48: UserWarning: A NumPy version >=1.23.5 and <2.3.0 is required for this version of SciPy (detected version 1.23.4)\n",
      "  import scipy\n",
      "/opt/anaconda3/envs/scenic/lib/python3.10/site-packages/numba/__init__.py:48: UserWarning: A NumPy version >=1.23.5 and <2.3.0 is required for this version of SciPy (detected version 1.23.4)\n",
      "  import scipy\n",
      "/opt/anaconda3/envs/scenic/lib/python3.10/site-packages/numba/__init__.py:48: UserWarning: A NumPy version >=1.23.5 and <2.3.0 is required for this version of SciPy (detected version 1.23.4)\n",
      "  import scipy\n",
      "/opt/anaconda3/envs/scenic/lib/python3.10/site-packages/numba/__init__.py:48: UserWarning: A NumPy version >=1.23.5 and <2.3.0 is required for this version of SciPy (detected version 1.23.4)\n",
      "  import scipy\n",
      "/opt/anaconda3/envs/scenic/lib/python3.10/site-packages/numba/__init__.py:48: UserWarning: A NumPy version >=1.23.5 and <2.3.0 is required for this version of SciPy (detected version 1.23.4)\n",
      "  import scipy\n",
      "/opt/anaconda3/envs/scenic/lib/python3.10/site-packages/numba/__init__.py:48: UserWarning: A NumPy version >=1.23.5 and <2.3.0 is required for this version of SciPy (detected version 1.23.4)\n",
      "  import scipy\n",
      "/opt/anaconda3/envs/scenic/lib/python3.10/site-packages/numba/__init__.py:48: UserWarning: A NumPy version >=1.23.5 and <2.3.0 is required for this version of SciPy (detected version 1.23.4)\n",
      "  import scipy\n"
     ]
    }
   ],
   "source": [
    "exp_mtx = pd.read_csv(\"lilacs_tcr.qc.tpm.csv\", index_col=0)\n",
    "auc_mtx = aucell(exp_mtx, regulons, num_workers=20)"
   ]
  },
  {
   "cell_type": "code",
   "execution_count": 11,
   "id": "5e53da21-f375-4ab8-a408-ed8a19e7231e",
   "metadata": {},
   "outputs": [],
   "source": [
    "auc_mtx.to_csv(AUCELL_MTX_FNAME)"
   ]
  },
  {
   "cell_type": "code",
   "execution_count": 12,
   "id": "c940c8a9-6895-4f85-b9af-a1e77cefac0e",
   "metadata": {},
   "outputs": [
    {
     "data": {
      "text/plain": [
       "AnnData object with n_obs × n_vars = 41050 × 1397\n",
       "    obs: 'sampleid', 'sampleid_study', 'timepoint', 'treatment', 'study_id', 'scrublet_score', 'n_genes', 'percent_mito', 'n_counts', 'is_doublet', 'filter_rna', 'batch', 'n_genes_by_counts', 'total_counts', 'total_counts_mt', 'pct_counts_mt', 'leiden', 'initial_clustering', 'fine_clustering', 'treatment_timepoint', 'sex', 'age', 'peak_trop', 'BNP', 'on_treatment_CRP', 'AEs', 'treatment_group_1', 'treatment_group_2', 'Lymph', 'CD4', 'CD8', 'Treg', 'sample_id', 'is_cell', 'high_confidence', 'multi_chain', 'extra_chains', 'IR_VJ_1_c_call', 'IR_VJ_2_c_call', 'IR_VDJ_1_c_call', 'IR_VDJ_2_c_call', 'IR_VJ_1_consensus_count', 'IR_VJ_2_consensus_count', 'IR_VDJ_1_consensus_count', 'IR_VDJ_2_consensus_count', 'IR_VJ_1_d_call', 'IR_VJ_2_d_call', 'IR_VDJ_1_d_call', 'IR_VDJ_2_d_call', 'IR_VJ_1_duplicate_count', 'IR_VJ_2_duplicate_count', 'IR_VDJ_1_duplicate_count', 'IR_VDJ_2_duplicate_count', 'IR_VJ_1_j_call', 'IR_VJ_2_j_call', 'IR_VDJ_1_j_call', 'IR_VDJ_2_j_call', 'IR_VJ_1_junction', 'IR_VJ_2_junction', 'IR_VDJ_1_junction', 'IR_VDJ_2_junction', 'IR_VJ_1_junction_aa', 'IR_VJ_2_junction_aa', 'IR_VDJ_1_junction_aa', 'IR_VDJ_2_junction_aa', 'IR_VJ_1_locus', 'IR_VJ_2_locus', 'IR_VDJ_1_locus', 'IR_VDJ_2_locus', 'IR_VJ_1_productive', 'IR_VJ_2_productive', 'IR_VDJ_1_productive', 'IR_VDJ_2_productive', 'IR_VJ_1_v_call', 'IR_VJ_2_v_call', 'IR_VDJ_1_v_call', 'IR_VDJ_2_v_call', 'has_ir', 'receptor_type', 'receptor_subtype', 'chain_pairing', 'cc_aa_alignment', 'cc_aa_alignment_size', 'exp_stat', 'normalized_shannon_entropy_cc_aa_alignment', 'D50_cc_aa_alignment', 'Regulon(CEBPD)', 'Regulon(EOMES)', 'Regulon(FOS)', 'Regulon(FOXP3)', 'Regulon(IKZF1)', 'Regulon(IKZF2)', 'Regulon(IRF1)', 'Regulon(JUN)', 'Regulon(JUNB)', 'Regulon(KLF6)', 'Regulon(LEF1)', 'Regulon(MYBL1)', 'Regulon(MYC)', 'Regulon(NFATC2)', 'Regulon(SATB1)', 'Regulon(STAT1)', 'Regulon(TBX21)'\n",
       "    var: 'gene_ids', 'feature_types', 'mt', 'n_cells_by_counts', 'mean_counts', 'pct_dropout_by_counts', 'total_counts', 'n_cells', 'highly_variable', 'means', 'dispersions', 'dispersions_norm', 'mean', 'std', 'Regulon(CEBPD)', 'Regulon(EOMES)', 'Regulon(FOS)', 'Regulon(FOXP3)', 'Regulon(IKZF1)', 'Regulon(IKZF2)', 'Regulon(IRF1)', 'Regulon(JUN)', 'Regulon(JUNB)', 'Regulon(KLF6)', 'Regulon(LEF1)', 'Regulon(MYBL1)', 'Regulon(MYC)', 'Regulon(NFATC2)', 'Regulon(SATB1)', 'Regulon(STAT1)', 'Regulon(TBX21)'\n",
       "    uns: 'cc_aa_alignment', 'clonotype_network', 'fine_clustering_colors', 'hvg', 'ir_dist_aa_alignment', 'leiden', 'leiden_colors', 'neighbors', 'pca', 'study_id_colors', 'timepoint_colors', 'treatment_colors', 'treatment_timepoint_colors', 'umap', 'aucell'\n",
       "    obsm: 'X_clonotype_network', 'X_pca', 'X_pca_harmony', 'X_umap', 'X_aucell'\n",
       "    varm: 'PCs'\n",
       "    obsp: 'connectivities', 'distances'"
      ]
     },
     "execution_count": 12,
     "metadata": {},
     "output_type": "execute_result"
    }
   ],
   "source": [
    "add_scenic_metadata(adata, auc_mtx, regulons)"
   ]
  }
 ],
 "metadata": {
  "kernelspec": {
   "display_name": "Python [conda env:scenic]",
   "language": "python",
   "name": "conda-env-scenic-py"
  },
  "language_info": {
   "codemirror_mode": {
    "name": "ipython",
    "version": 3
   },
   "file_extension": ".py",
   "mimetype": "text/x-python",
   "name": "python",
   "nbconvert_exporter": "python",
   "pygments_lexer": "ipython3",
   "version": "3.10.14"
  }
 },
 "nbformat": 4,
 "nbformat_minor": 5
}
