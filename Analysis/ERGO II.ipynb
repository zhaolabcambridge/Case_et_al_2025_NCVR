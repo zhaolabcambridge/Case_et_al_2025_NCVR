{
 "cells": [
  {
   "cell_type": "code",
   "execution_count": null,
   "metadata": {},
   "outputs": [],
   "source": [
    "import numpy as np\n",
    "import pandas as pd\n",
    "import scanpy as sc\n",
    "import os\n",
    "import re\n",
    "import scirpy as ir\n",
    "import anndata as ad\n",
    "import scipy as sp\n",
    "import matplotlib\n",
    "from matplotlib import pyplot as plt\n",
    "from matplotlib.gridspec import GridSpec\n",
    "import seaborn as sns"
   ]
  },
  {
   "cell_type": "code",
   "execution_count": null,
   "metadata": {},
   "outputs": [],
   "source": [
    "ergo_e = pd.read_csv(\"ergo_out_exp_processed.csv\")\n",
    "rgo_ne = pd.read_csv(\"ergo_out_non_exp_processed.csv\")\n",
    "\n",
    "ergo_e = ergo_e.drop_duplicates(subset=[\"TRB\", \"Epitope.peptide\", \"Category\", \"study_id\", \"Pathology\"])\n",
    "ergo_ne = ergo_ne.drop_duplicates(subset=[\"TRB\", \"Epitope.peptide\", \"Category\", \"study_id\", \"Pathology\"])"
   ]
  },
  {
   "cell_type": "code",
   "execution_count": null,
   "metadata": {},
   "outputs": [],
   "source": [
    "plt.rcParams[\"font.family\"] = \"Arial\"\n",
    "matplotlib.rcParams.update({'font.size': 15})\n",
    "\n",
    "ergo_e_high = ergo_e[ergo_e[\"Score\"] > 0.98]\n",
    "\n",
    "\n",
    "fig, ax = plt.subplots()\n",
    "sns.histplot(y=\"Score\", x=\"Pathology\", data=ergo_e_high, ax=ax, \n",
    "             element=\"step\", hue=\"Pathology\", \n",
    "             #cbar=True, cbar_kws=dict(shrink=.75), \n",
    "             cmap=\"tab12\")\n",
    "ax.set_title(\"Expanded Tregs\")\n",
    "plt.xticks(rotation=90)\n",
    "plt.legend([],[], frameon=False)\n",
    "plt.show()"
   ]
  }
 ],
 "metadata": {
  "language_info": {
   "name": "python"
  }
 },
 "nbformat": 4,
 "nbformat_minor": 2
}
