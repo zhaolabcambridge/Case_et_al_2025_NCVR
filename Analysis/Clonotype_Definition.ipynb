{
 "cells": [
  {
   "cell_type": "code",
   "execution_count": null,
   "metadata": {},
   "outputs": [],
   "source": [
    "import numpy as np\n",
    "import pandas as pd\n",
    "import scanpy as sc\n",
    "import os\n",
    "import re\n",
    "import scirpy as ir\n",
    "import anndata as ad\n",
    "import scipy as sp"
   ]
  },
  {
   "cell_type": "code",
   "execution_count": null,
   "metadata": {},
   "outputs": [],
   "source": [
    "# merge with gene expression data\n",
    "ir.pp.merge_with_tcr(adata, adata_tcr)"
   ]
  },
  {
   "cell_type": "code",
   "execution_count": null,
   "metadata": {},
   "outputs": [],
   "source": [
    "# keep only single chains\n",
    "adata_sc = adata[adata.obs[\"chain_pairing\"] == \"single pair\", :].copy()"
   ]
  },
  {
   "cell_type": "code",
   "execution_count": null,
   "metadata": {},
   "outputs": [],
   "source": [
    "# aa alignment clonotype definition\n",
    "\n",
    "ir.pp.ir_dist(adata_sc, metric=\"alignment\", sequence=\"aa\", cutoff=10, n_jobs=10)\n",
    "ir.tl.define_clonotype_clusters(adata_sc, sequence=\"aa\", metric=\"alignment\", receptor_arms=\"all\", \n",
    "                                dual_ir=\"all\", same_v_gene=False)"
   ]
  }
 ],
 "metadata": {
  "language_info": {
   "name": "python"
  }
 },
 "nbformat": 4,
 "nbformat_minor": 2
}
